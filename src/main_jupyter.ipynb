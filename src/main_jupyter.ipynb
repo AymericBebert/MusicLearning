{
 "cells": [
  {
   "cell_type": "code",
   "execution_count": 1,
   "metadata": {},
   "outputs": [
    {
     "name": "stdout",
     "output_type": "stream",
     "text": [
      "Populating the interactive namespace from numpy and matplotlib\n"
     ]
    }
   ],
   "source": [
    "import os\n",
    "import sys\n",
    "import glob\n",
    "\n",
    "from configparser import ConfigParser\n",
    "import numpy as np\n",
    "import python_speech_features\n",
    "%pylab inline\n",
    "\n",
    "from globalStorage import GlobalStorage\n",
    "from log import initLog, writeLog\n",
    "import file_actions\n",
    "import extract_features"
   ]
  },
  {
   "cell_type": "code",
   "execution_count": 2,
   "metadata": {},
   "outputs": [
    {
     "data": {
      "text/plain": [
       "['/home/aymeric/Documents/Python/MusicLearning/src/config.ini']"
      ]
     },
     "execution_count": 2,
     "metadata": {},
     "output_type": "execute_result"
    }
   ],
   "source": [
    "# Reading the config file\n",
    "config = ConfigParser()\n",
    "cfile = os.path.join(os.getcwd(), \"config.ini\")\n",
    "config.read(cfile)"
   ]
  },
  {
   "cell_type": "code",
   "execution_count": 3,
   "metadata": {},
   "outputs": [
    {
     "name": "stdout",
     "output_type": "stream",
     "text": [
      "\u001b[96m00:49:18 - INFO - Program restarted\u001b[0m\n",
      "\u001b[90m00:49:18 - DEBUG - Python version: 3.5.3 (default, May 10 2017, 15:05:55) \n",
      "[GCC 6.3.1 20161221 (Red Hat 6.3.1-1)]\u001b[0m\n"
     ]
    }
   ],
   "source": [
    "# Logs initialization\n",
    "initLog(config)\n",
    "writeLog(\"info\", \"Program restarted\")\n",
    "\n",
    "# Python version info\n",
    "sys.path.append(os.path.abspath(os.getcwd()))\n",
    "python_version = sys.version_info.major\n",
    "writeLog(\"debug\", \"Python version: {}\".format(sys.version))\n",
    "\n",
    "# Instanciationg the global storage\n",
    "gs = GlobalStorage()"
   ]
  },
  {
   "cell_type": "code",
   "execution_count": 4,
   "metadata": {},
   "outputs": [
    {
     "name": "stdout",
     "output_type": "stream",
     "text": [
      "['dragonforce', 'rammstein']\n"
     ]
    }
   ],
   "source": [
    "folders = os.listdir(\"../data/samples\")\n",
    "print(folders)"
   ]
  },
  {
   "cell_type": "code",
   "execution_count": 5,
   "metadata": {
    "collapsed": true
   },
   "outputs": [],
   "source": [
    "for i, f in enumerate(folders):\n",
    "    samplesMP3 = glob.glob(\"../data/samples/{}/*.mp3\".format(f))\n",
    "    for s in samplesMP3:\n",
    "        swav = os.path.splitext(s)[0] + '.wav'\n",
    "        if not os.path.isfile(swav):\n",
    "            file_actions.to_wav(s, swav)"
   ]
  },
  {
   "cell_type": "code",
   "execution_count": 6,
   "metadata": {},
   "outputs": [
    {
     "name": "stdout",
     "output_type": "stream",
     "text": [
      "\u001b[90m00:49:20 - TIME - Timer started for \"Extracting ../data/samples/dragonforce/01 - The Game.wav\"\u001b[0m\n",
      "\u001b[90m00:49:23 - TIME - 3.076s for \"Extracting ../data/samples/dragonforce/01 - The Game.wav\"\u001b[0m\n",
      "\u001b[90m00:49:25 - TIME - Timer started for \"Extracting ../data/samples/dragonforce/05 - Body Breakdown.wav\"\u001b[0m\n",
      "\u001b[90m00:49:29 - TIME - 4.351s for \"Extracting ../data/samples/dragonforce/05 - Body Breakdown.wav\"\u001b[0m\n",
      "\u001b[90m00:49:33 - TIME - Timer started for \"Extracting ../data/samples/rammstein/03 - Rosenrot.wav\"\u001b[0m\n",
      "\u001b[90m00:49:36 - TIME - 2.586s for \"Extracting ../data/samples/rammstein/03 - Rosenrot.wav\"\u001b[0m\n",
      "\u001b[90m00:49:38 - TIME - Timer started for \"Extracting ../data/samples/rammstein/01 - Reise, Reise.wav\"\u001b[0m\n",
      "\u001b[90m00:49:41 - TIME - 2.558s for \"Extracting ../data/samples/rammstein/01 - Reise, Reise.wav\"\u001b[0m\n"
     ]
    }
   ],
   "source": [
    "data = []\n",
    "for i, f in enumerate(folders):\n",
    "    samples = glob.glob(\"../data/samples/{}/*.wav\".format(f))\n",
    "    for s in samples:\n",
    "        es = file_actions.extract_sound(s)\n",
    "        esm = np.array(file_actions.convert_to_mono(es[0])[0])\n",
    "        data.append({\"label\": i, \"sound\": esm, \"params\": es[1], \"file\": s})"
   ]
  },
  {
   "cell_type": "code",
   "execution_count": 7,
   "metadata": {},
   "outputs": [
    {
     "name": "stdout",
     "output_type": "stream",
     "text": [
      "0 <- ../data/samples/dragonforce/01 - The Game.wav\n",
      "[-7354 -8122 -5408  -700   863 -1156 -4625 -7851 -8808 -7385]\n",
      "_wave_params(nchannels=2, sampwidth=2, framerate=44100, nframes=13070639, comptype='NONE', compname='not compressed')\n",
      "296.38637188208617\n"
     ]
    }
   ],
   "source": [
    "print(\"{} <- {}\".format(data[0][\"label\"], data[0][\"file\"]))\n",
    "print(data[0][\"sound\"][100000:100010])\n",
    "print(data[0][\"params\"])\n",
    "print(extract_features.file_length(data[0][\"params\"]))"
   ]
  },
  {
   "cell_type": "code",
   "execution_count": 8,
   "metadata": {},
   "outputs": [],
   "source": [
    "def extract_features0(sound_obj):\n",
    "    soundD = sound_obj[\"sound\"]  # raw data\n",
    "    sr = sound_obj[\"params\"][2]  # samplerate\n",
    "    nf = sound_obj[\"params\"][3]  # nframes\n",
    "    fl = nf / sr                 # file length\n",
    "\n",
    "    test_mfcc = python_speech_features.mfcc(soundD, samplerate=sr, winlen=0.025, winstep=1)\n",
    "    test_mfcc_avg = np.mean(test_mfcc, axis=0)\n",
    "    return np.concatenate(([fl], test_mfcc_avg))"
   ]
  },
  {
   "cell_type": "code",
   "execution_count": 9,
   "metadata": {},
   "outputs": [
    {
     "data": {
      "text/plain": [
       "array([  2.96386372e+02,   2.04661181e+01,  -8.65693108e+00,\n",
       "        -2.50414870e+01,   1.15075690e+01,  -9.58328060e+00,\n",
       "         1.28506370e+01,  -7.35448382e-01,   9.55491669e+00,\n",
       "        -3.05059941e+00,   8.63517943e+00,   1.59142760e-01,\n",
       "         5.92153353e+00,   1.88925204e+00])"
      ]
     },
     "execution_count": 9,
     "metadata": {},
     "output_type": "execute_result"
    }
   ],
   "source": [
    "extract_features0(data[0])"
   ]
  },
  {
   "cell_type": "code",
   "execution_count": 10,
   "metadata": {},
   "outputs": [
    {
     "data": {
      "text/plain": [
       "array([  2.96386372e+02,   2.04661181e+01,  -8.65693108e+00,\n",
       "        -2.50414870e+01,   1.15075690e+01,  -9.58328060e+00,\n",
       "         1.28506370e+01,  -7.35448382e-01,   9.55491669e+00,\n",
       "        -3.05059941e+00,   8.63517943e+00,   1.59142760e-01,\n",
       "         5.92153353e+00,   1.88925204e+00])"
      ]
     },
     "execution_count": 10,
     "metadata": {},
     "output_type": "execute_result"
    }
   ],
   "source": [
    "extract_features.extract_all_features(data[0])"
   ]
  },
  {
   "cell_type": "code",
   "execution_count": null,
   "metadata": {
    "collapsed": true
   },
   "outputs": [],
   "source": []
  }
 ],
 "metadata": {
  "kernelspec": {
   "display_name": "Python 3",
   "language": "python",
   "name": "python3"
  },
  "language_info": {
   "codemirror_mode": {
    "name": "ipython",
    "version": 3
   },
   "file_extension": ".py",
   "mimetype": "text/x-python",
   "name": "python",
   "nbconvert_exporter": "python",
   "pygments_lexer": "ipython3",
   "version": "3.5.3"
  }
 },
 "nbformat": 4,
 "nbformat_minor": 2
}
